{
 "cells": [
  {
   "cell_type": "code",
   "execution_count": 1,
   "id": "1f780132-734c-4f9e-b309-b1ae75b235b4",
   "metadata": {},
   "outputs": [],
   "source": [
    "import pandas \n",
    "import numpy as np    \n",
    "from tqdm import tqdm\n",
    "from rdkit import Chem\n",
    "from rdkit.Chem import rdFingerprintGenerator\n",
    "from sklearn.model_selection import train_test_split\n",
    "import xgboost as xgb\n",
    "from sklearn.model_selection import GridSearchCV\n",
    "\n",
    "def valid_pka_or_None(val):\n",
    "    s_val = str(val)\n",
    "    try:\n",
    "        return float(val)\n",
    "    except ValueError as e:\n",
    "        if \"~\" in s_val or \"<\" in s_val or \">\" in s_val or \"temp\" in s_val or \"not_stated\" in s_val:\n",
    "            return None\n",
    "        else:\n",
    "            to_range = [\" to \",\"-\"]\n",
    "            for r in to_range:\n",
    "                if r in s_val:\n",
    "                    return np.mean([float(f) for f in s_val.split(r)])\n",
    "            return None            \n",
    "\n",
    "np.bool8 = np.bool\n",
    "from plotly import express as px\n",
    "renderer=\"iframe\"\n",
    "pKa = pandas.read_csv(\"../lib/Dissociation-Constants/iupac_high-confidence_v2_2.csv\")\n",
    "invalid_temps = [\"Neutral molecule unstable\", \"not_stated\", \"c\", \"not\",\n",
    "                 \"Not stated\", \"Not given\",\n",
    "                 \"Few details\", \"not stated\", \"not_stated \"]\n",
    "pKa[\"Temperature ('C)\"] = \\\n",
    "    [float(str(t).replace(\"<\", \"\")) if t not in invalid_temps else float(\"nan\")\n",
    "     for t in pKa[\"T\"]]\n",
    "pKa[\"pka_value\"] = [ valid_pka_or_None(val) \n",
    "                     for val in pKa[\"pka_value\"]]\n",
    "pKa[\"Degrees from 20 ('C)\"] = np.abs(pKa[\"Temperature ('C)\"] - 20)\n",
    "pKa1_temp = pKa[pKa[\"pka_type\"].isin([\"pKa1\"]) & pKa[\"Temperature ('C)\"].between(15, 25)]\n",
    "pKa1_median = pKa1_temp[[\"InChI\",\"pka_value\"]].groupby(\"InChI\").median().reset_index()\n",
    "pKa1_median[\"mol\"] = pKa1_median[\"InChI\"].transform(Chem.MolFromInchi)\n",
    "pKa1_median.dropna(subset=\"mol\",inplace=True,ignore_index=True)\n",
    "pKa1_median.dropna(subset=\"pka_value\",inplace=True,ignore_index=True)"
   ]
  },
  {
   "cell_type": "code",
   "execution_count": 2,
   "id": "2a1e904b-b52a-406b-8687-0f156053f19a",
   "metadata": {},
   "outputs": [],
   "source": [
    "def fit(mols,pka,radius = 2,fingerprint_size=512,n_jobs=None,params=None,\n",
    "        generator=rdFingerprintGenerator.GetMorganGenerator):\n",
    "    if params is None:\n",
    "        params = { 'max_depth': [1,2,3, 4],'n_estimators': [2,10,50,100,200]}\n",
    "    if generator == rdFingerprintGenerator.GetRDKitFPGenerator:\n",
    "        fp_generator = generator(maxPath=2*radius,fpSize=fingerprint_size)\n",
    "    elif generator == rdFingerprintGenerator.GetAtomPairGenerator:\n",
    "        fp_generator = generator(maxDistance=2*radius,fpSize=fingerprint_size)\n",
    "    elif generator == rdFingerprintGenerator.GetTopologicalTorsionGenerator:\n",
    "        fp_generator = generator(torsionAtomCount=radius,fpSize=fingerprint_size)\n",
    "    else:\n",
    "        fp_generator = generator(radius=radius,fpSize=fingerprint_size)\n",
    "    X = np.array([list(e) for e in mols.transform(fp_generator.GetFingerprint)],dtype=bool)\n",
    "    X_train, X_test, y_train, y_test = train_test_split(X, pka, random_state=42)\n",
    "    # Use \"hist\" for constructing the trees, with early stopping enabled.\n",
    "    model = xgb.XGBRegressor()\n",
    "    grid = GridSearchCV(estimator=model, \n",
    "                        param_grid=params,\n",
    "                        scoring='r2', n_jobs=n_jobs,\n",
    "                        verbose=False,return_train_score=True)\n",
    "    grid.fit(X=X_train, y=y_train)\n",
    "    return grid , X_train, X_test, y_train, y_test \n",
    "\n",
    "def flatten_errors(grid):\n",
    "    df_to_cat = []\n",
    "    for lab, y, y_error in [[\"test\",\"mean_test_score\",\"std_test_score\"],\n",
    "                            [\"train\",\"mean_train_score\",\"std_train_score\"]]:\n",
    "        df_y = pandas.concat([pandas.DataFrame(grid.cv_results_[\"params\"]),\n",
    "                              pandas.DataFrame(grid.cv_results_[y], columns=[\"Score\"]),\n",
    "                             pandas.DataFrame(grid.cv_results_[y_error], columns=[\"Score error\"])],axis=1)\n",
    "        df_y[\"Set\"] = lab\n",
    "        df_to_cat.append(df_y)\n",
    "    df_cat = pandas.concat(df_to_cat)\n",
    "    return df_cat"
   ]
  },
  {
   "cell_type": "code",
   "execution_count": 3,
   "id": "9840706a-9a50-42ac-8264-823dd4a17fc5",
   "metadata": {},
   "outputs": [],
   "source": [
    "pka = pKa1_median[\"pka_value\"].to_numpy(dtype=float)\n",
    "mols = pKa1_median[\"mol\"]\n",
    "fp_generator = rdFingerprintGenerator.GetMorganGenerator(radius=2,fpSize=256)\n",
    "X = np.array([list(e) for e in mols.transform(fp_generator.GetFingerprint)],dtype=bool)\n",
    "#distance_matrix = ClusterMols.GetDistanceMatrix(fingerprints, metric=rdkit.DataStructs.DiceSimilarity)"
   ]
  },
  {
   "cell_type": "code",
   "execution_count": null,
   "id": "eec54bc3-eb40-416f-80ca-af4ffb978698",
   "metadata": {},
   "outputs": [
    {
     "name": "stderr",
     "output_type": "stream",
     "text": [
      "  0%|                                                                                                                                     | 0/4 [00:00<?, ?it/s]\n",
      "\u001b[A/opt/anaconda3/envs/mol_cv/lib/python3.13/site-packages/numpy/ma/core.py:2881: RuntimeWarning: invalid value encountered in cast       | 0/4 [00:00<?, ?it/s]\n",
      "  _data = np.array(data, dtype=dtype, copy=copy,\n",
      "\n",
      "\u001b[A%|███████████████████████████████▎                                                                                             | 1/4 [00:09<00:28,  9.41s/it]\n",
      "\u001b[A%|██████████████████████████████████████████████████████████████▌                                                              | 2/4 [00:30<00:32, 16.37s/it]\n",
      "\u001b[A%|█████████████████████████████████████████████████████████████████████████████████████████████▊                               | 3/4 [01:25<00:33, 33.84s/it]"
     ]
    }
   ],
   "source": [
    "df_fingerprints = []\n",
    "generators = [\n",
    "    ['ttgen', rdFingerprintGenerator.GetTopologicalTorsionGenerator],\n",
    "    ['apgen', rdFingerprintGenerator.GetAtomPairGenerator],\n",
    "    [\"mgngen\",rdFingerprintGenerator.GetMorganGenerator],\n",
    "    ['rdkgen',rdFingerprintGenerator.GetRDKitFPGenerator],\n",
    "]\n",
    "for label,generator in tqdm(generators):\n",
    "    for fingerprint_size in tqdm([128,512,1024,2048]):\n",
    "        grid, _, _, _, _  = fit(mols,pka,radius = 2,fingerprint_size=fingerprint_size,params=None,\n",
    "                               n_jobs=-2,generator=generator)\n",
    "        df_errors = flatten_errors(grid)\n",
    "        df_errors[\"bits\"] = fingerprint_size\n",
    "        df_errors[\"fp_type\"] = label\n",
    "        errors_grid = [df_errors,grid]\n",
    "        df_fingerprints.append(errors_grid)"
   ]
  },
  {
   "cell_type": "code",
   "execution_count": null,
   "id": "8add6e8c-fdc7-4a19-a30d-54459c982b4d",
   "metadata": {},
   "outputs": [],
   "source": [
    "df_cat = pandas.concat([d[0] for d in df_fingerprints])\n",
    "px.line(df_cat,y=\"Score\",error_y=\"Score error\",line_dash=\"bits\",facet_row=\"fp_type\",\n",
    "        x=\"n_estimators\",color=\"Set\",facet_col=\"max_depth\").show(renderer=renderer)"
   ]
  }
 ],
 "metadata": {
  "kernelspec": {
   "display_name": "Python 3 (ipykernel)",
   "language": "python",
   "name": "python3"
  },
  "language_info": {
   "codemirror_mode": {
    "name": "ipython",
    "version": 3
   },
   "file_extension": ".py",
   "mimetype": "text/x-python",
   "name": "python",
   "nbconvert_exporter": "python",
   "pygments_lexer": "ipython3",
   "version": "3.13.1"
  }
 },
 "nbformat": 4,
 "nbformat_minor": 5
}
